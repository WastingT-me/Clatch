{
  "nbformat": 4,
  "nbformat_minor": 0,
  "metadata": {
    "colab": {
      "provenance": []
    },
    "kernelspec": {
      "name": "python3",
      "display_name": "Python 3"
    },
    "language_info": {
      "name": "python"
    }
  },
  "cells": [
    {
      "cell_type": "markdown",
      "source": [
        "# Libs"
      ],
      "metadata": {
        "id": "c5r6wkaoKrue"
      }
    },
    {
      "cell_type": "code",
      "execution_count": 1,
      "metadata": {
        "id": "QdqXaPr8kt9X"
      },
      "outputs": [],
      "source": [
        "import pandas as pd\n",
        "import numpy as np\n",
        "import matplotlib.pyplot as plt\n",
        "import math\n",
        "import scipy\n",
        "from sklearn.metrics import mean_absolute_error\n",
        "from statsmodels.tsa.arima.model import ARIMA\n",
        "from statsmodels.tsa.statespace.sarimax import SARIMAX\n",
        "\n",
        "import warnings\n",
        "warnings.filterwarnings('ignore')"
      ]
    },
    {
      "cell_type": "markdown",
      "source": [
        "# Tools"
      ],
      "metadata": {
        "id": "q75CFBHTqtws"
      }
    },
    {
      "cell_type": "code",
      "source": [
        "def evaluate(model, X, y, X_test, y_test):\n",
        "    model.fit(X, y)\n",
        "    preds = model.predict(X_test)\n",
        "    return np.sum(np.absolute(y_test - preds))"
      ],
      "metadata": {
        "id": "U5QtWeOHKABa"
      },
      "execution_count": 187,
      "outputs": []
    },
    {
      "cell_type": "code",
      "source": [
        "def timesplit(data):\n",
        "    data['year'] = data.started_at.dt.year\n",
        "    data['month'] = data.started_at.dt.month\n",
        "    data['season'] = (data.started_at.dt.month % 12) // 3\n",
        "    data['day'] = data.started_at.dt.day\n",
        "    return data"
      ],
      "metadata": {
        "id": "UGhzeRZZypgK"
      },
      "execution_count": 177,
      "outputs": []
    },
    {
      "cell_type": "code",
      "source": [
        "def prepro(data, interval=None, baseline=False):\n",
        "    \"\"\"\n",
        "    return data, train/test splits\n",
        "    \"\"\"\n",
        "    #set datetime\n",
        "    for cols in data.columns:\n",
        "        if data[cols].dtypes == object:\n",
        "            data[cols] = pd.to_datetime(data[cols])\n",
        "\n",
        "    #remove fake records\n",
        "    data = data[data.started_at.dt.year > 2022]\n",
        "\n",
        "    #remove all users with only 1 record (28 days) & also with 2 becauuse we need to validate it somehow\n",
        "    s = data.groupby(['user_id'])['count_of_days'].count() > 2\n",
        "    data = data[data.user_id.isin(s[s].index)]\n",
        "\n",
        "    #remove last record for every user\n",
        "    if not baseline:\n",
        "        data = data[data.groupby('user_id').cumcount(ascending=False) > 0]\n",
        "\n",
        "    #keep users with a cycle in the interval\n",
        "    if interval is not None:\n",
        "        data = data[~data.user_id.isin(data[(data['count_of_days'] < interval[0]) | (data['count_of_days'] > interval[1])]['user_id'].unique())]\n",
        "\n",
        "    test = data.groupby(\"user_id\").last().reset_index()\n",
        "    test = to_dict(test)\n",
        "    train = data[data.groupby('user_id').cumcount(ascending=False) > 0]\n",
        "    train = to_dict(train)\n",
        "\n",
        "    #choose only modern data\n",
        "    #december = data[(data.started_at.dt.month == 12) & (data.started_at.dt.year == 2023)].user_id.unique()\n",
        "    #december_plus = data[data.started_at.dt.year == 2024].user_id.unique()\n",
        "    #before_dec = data[(data.started_at.dt.year < 2024) & ~((data.started_at.dt.month == 12) & (data.started_at.dt.year == 2023))].user_id.unique()\n",
        "    #data = data[data.user_id.isin(set.intersection(set(december), set(december_plus), set(before_dec)))]\n",
        "\n",
        "    return data, train, test#data[data.started_at.dt.year < 2024], data[(data.started_at.dt.year == 2024) & (data.started_at.dt.month == 1)]"
      ],
      "metadata": {
        "id": "P0FQ_-wXo5Hn"
      },
      "execution_count": 31,
      "outputs": []
    },
    {
      "cell_type": "code",
      "source": [
        "def preprocessing(data, baseline=False):\n",
        "    \"\"\"\n",
        "    return preprocessed data - without synthetic records and predictions\n",
        "    \"\"\"\n",
        "\n",
        "    data = data[['user_id', 'started_at', 'count_of_days']]\n",
        "    #set datetime\n",
        "    for cols in data.columns:\n",
        "        if data[cols].dtypes == object:\n",
        "            data[cols] = pd.to_datetime(data[cols])\n",
        "\n",
        "    #remove fake records\n",
        "    data = data[data.started_at.dt.year > 2022]\n",
        "\n",
        "    #remove all users with only 1 record (28 days) & also with 2 because we need to validate it somehow\n",
        "    s = data.groupby(['user_id'])['count_of_days'].count() > 2\n",
        "    data = data[data.user_id.isin(s[s].index)]\n",
        "\n",
        "    #remove last record for every user\n",
        "    # TO DO test case\n",
        "    if not baseline:\n",
        "        data = data[data.groupby('user_id').cumcount(ascending=False) > 0]\n",
        "\n",
        "    return data\n",
        "\n",
        "def separation(data, interval=(18, 35), with_std=None, cv_quantile=0.5):\n",
        "    \"\"\"\n",
        "    return data separated by (up to 4) groups\n",
        "    \"\"\"\n",
        "\n",
        "    if with_std is not None:\n",
        "        #data = data[~data.user_id.isin(data[(data['count_of_days'].std() > with_std[1]) | (data['count_of_days'].std() < with_std[0])]['user_id'].unique())]\n",
        "        #s = data.groupby(['user_id'])['count_of_days'].std().between(with_std[0], with_std[1], inclusive=True)\n",
        "        #data = data[data.user_id.isin(s[s].index)]\n",
        "        s = data.groupby(['user_id'])['count_of_days'].std().between(with_std[0], with_std[1], inclusive=True)\n",
        "        data = data[data.user_id.isin(s[s].index)]\n",
        "        #std_ = data.count_of_days.std()\n",
        "        #mean_ = data.count_of_days.mean()\n",
        "        #data = data[(data.count_of_days > mean_ - std_) & (data.count_of_days < mean_ + std_)]\n",
        "        s = data.groupby(['user_id'])['count_of_days'].count() > 1\n",
        "        data = data[data.user_id.isin(s[s].index)]\n",
        "\n",
        "    #keep users with a cycle in the interval\n",
        "    data_0 = data[~data.user_id.isin(data[(data['count_of_days'] < interval[0]) | (data['count_of_days'] > interval[1])]['user_id'].unique())]\n",
        "    data_1 = data[data.user_id.isin(data[(data['count_of_days'] < interval[0]) | (data['count_of_days'] > interval[1])]['user_id'].unique())]\n",
        "\n",
        "    #print(data_0.user_id.nunique()/data.user_id.nunique(), data_1.user_id.nunique()/data.user_id.nunique(), data_0.user_id.nunique()/data.user_id.nunique() + data_1.user_id.nunique()/data.user_id.nunique())\n",
        "\n",
        "    #coefficient of variation\n",
        "    cv = (data.groupby(['user_id'])['count_of_days'].std() / data.groupby(['user_id'])['count_of_days'].mean()).quantile(q=cv_quantile)\n",
        "\n",
        "    s_0 = (data_0.groupby(['user_id'])['count_of_days'].std() / data_0.groupby(['user_id'])['count_of_days'].mean()) < cv\n",
        "    s_1 = (data_0.groupby(['user_id'])['count_of_days'].std() / data_0.groupby(['user_id'])['count_of_days'].mean()) >= cv\n",
        "\n",
        "    data_0_0 = data_0[data_0.user_id.isin(s_0[s_0].index)]\n",
        "    data_0_1 = data_0[data_0.user_id.isin(s_1[s_1].index)]\n",
        "\n",
        "    #print(data_0_0.user_id.nunique()/data.user_id.nunique(), data_0_1.user_id.nunique()/data.user_id.nunique())\n",
        "\n",
        "    s_0 = (data_1.groupby(['user_id'])['count_of_days'].std() / data_1.groupby(['user_id'])['count_of_days'].mean()) < cv\n",
        "    s_1 = (data_1.groupby(['user_id'])['count_of_days'].std() / data_1.groupby(['user_id'])['count_of_days'].mean()) >= cv\n",
        "\n",
        "    data_1_0 = data_1[data_1.user_id.isin(s_0[s_0].index)]\n",
        "    data_1_1 = data_1[data_1.user_id.isin(s_1[s_1].index)]\n",
        "\n",
        "    #print(data_1_0.user_id.nunique()/data.user_id.nunique(), data_1_1.user_id.nunique()/data.user_id.nunique())\n",
        "\n",
        "    #choose only modern data\n",
        "    #december = data[(data.started_at.dt.month == 12) & (data.started_at.dt.year == 2023)].user_id.unique()\n",
        "    #december_plus = data[data.started_at.dt.year == 2024].user_id.unique()\n",
        "    #before_dec = data[(data.started_at.dt.year < 2024) & ~((data.started_at.dt.month == 12) & (data.started_at.dt.year == 2023))].user_id.unique()\n",
        "    #data = data[data.user_id.isin(set.intersection(set(december), set(december_plus), set(before_dec)))]\n",
        "    #data[data.started_at.dt.year < 2024], data[(data.started_at.dt.year == 2024) & (data.started_at.dt.month == 1)]\n",
        "\n",
        "    return data_0_0, data_0_1, data_1_0, data_1_1"
      ],
      "metadata": {
        "id": "xVjF1p1Pqtws"
      },
      "execution_count": 62,
      "outputs": []
    },
    {
      "cell_type": "code",
      "source": [
        "def round_cycle(length):\n",
        "    if length > 28:\n",
        "        return int(length)\n",
        "    elif length == 28:\n",
        "        return length\n",
        "    else:\n",
        "        if length - int(length) > 0:\n",
        "            return int(length) + 1\n",
        "        else:\n",
        "            return length"
      ],
      "metadata": {
        "id": "ODR45hx9qtwt"
      },
      "execution_count": 4,
      "outputs": []
    },
    {
      "cell_type": "code",
      "source": [
        "def wrapper(model, data, window=False, interval=None):\n",
        "    if (len(data) > 2 and window):\n",
        "        data = data[-3:]\n",
        "    if interval is not None:\n",
        "        data = data[(data > interval[0]-1) & (data < interval[0]+1)]\n",
        "    if len(data) == 0:\n",
        "            return 28\n",
        "    elif len(data) == 1:\n",
        "        return data[0]\n",
        "    else:\n",
        "        return round_cycle(model(data))"
      ],
      "metadata": {
        "id": "eGUj9Y1Rqtwt"
      },
      "execution_count": 5,
      "outputs": []
    },
    {
      "cell_type": "code",
      "source": [
        "def arima(data):\n",
        "    model = ARIMA(data, order = (3, 0, 1)).fit()\n",
        "    return model.forecast()"
      ],
      "metadata": {
        "id": "ryCEi1Sjqtwt"
      },
      "execution_count": 6,
      "outputs": []
    },
    {
      "cell_type": "code",
      "source": [
        "def sarimax(data):\n",
        "    model = SARIMAX(data).fit()\n",
        "    return model.forecast()"
      ],
      "metadata": {
        "id": "QTPbi9kLqtwt"
      },
      "execution_count": 7,
      "outputs": []
    },
    {
      "cell_type": "code",
      "source": [
        "def avg(data):\n",
        "    return data.mean()"
      ],
      "metadata": {
        "id": "J8WmGO27qtwu"
      },
      "execution_count": 8,
      "outputs": []
    },
    {
      "cell_type": "code",
      "source": [
        "def baseline(cycle):\n",
        "        return cycle.mean()"
      ],
      "metadata": {
        "id": "-zPtcEcoqtwu"
      },
      "execution_count": 9,
      "outputs": []
    },
    {
      "cell_type": "code",
      "source": [
        "def validation(train, val, model, window=True):\n",
        "    result = {}\n",
        "    #i = 0\n",
        "    for id in train:\n",
        "        result[id] = wrapper(model, train[id], window)\n",
        "        #i+=1\n",
        "        #if (i % 100 == 0): print(i)\n",
        "\n",
        "    test = np.fromiter(val.values(), dtype=int)\n",
        "    pred = np.fromiter(result.values(), dtype=int)\n",
        "\n",
        "    return np.sum(np.absolute(test - pred))"
      ],
      "metadata": {
        "id": "KHDrqWXqqtwu"
      },
      "execution_count": 186,
      "outputs": []
    },
    {
      "cell_type": "code",
      "source": [
        "def to_dict(data_):\n",
        "    cycle = {}\n",
        "    for elem in data_.sort_values(by=['user_id', 'started_at'])[['user_id', 'count_of_days']].groupby('user_id'):\n",
        "        cycle[elem[0]] = elem[1]['count_of_days'].values\n",
        "    return cycle"
      ],
      "metadata": {
        "id": "C4Ig6Be_qtwu"
      },
      "execution_count": 11,
      "outputs": []
    },
    {
      "cell_type": "code",
      "source": [
        "def optimal_search(model):\n",
        "    mae = {}\n",
        "    for i in range(10, 20):\n",
        "        for j in range(40, 50):\n",
        "            _, train, val = prepro(df, interval=(i, j))\n",
        "            mae[(i,j)] = validation(train, val, model, window=True)\n",
        "            print((i, j), mae[(i, j)])\n",
        "    return mae"
      ],
      "metadata": {
        "id": "n_0mxhK-qtwu"
      },
      "execution_count": 12,
      "outputs": []
    },
    {
      "cell_type": "code",
      "source": [
        "def train_test_split_(data):\n",
        "    return data[data.groupby('user_id').cumcount(ascending=False) > 0], data.groupby(\"user_id\").last().reset_index()"
      ],
      "metadata": {
        "id": "INIu2EclGZab"
      },
      "execution_count": 166,
      "outputs": []
    },
    {
      "cell_type": "markdown",
      "source": [
        "# EDA"
      ],
      "metadata": {
        "id": "j3-z6V4gmNlu"
      }
    },
    {
      "cell_type": "markdown",
      "source": [
        "## Overview"
      ],
      "metadata": {
        "id": "6URDC9LGBbeB"
      }
    },
    {
      "cell_type": "code",
      "source": [
        "from google.colab import drive\n",
        "drive.mount('/content/drive')"
      ],
      "metadata": {
        "colab": {
          "base_uri": "https://localhost:8080/"
        },
        "id": "TbRyG9PFmjyU",
        "outputId": "26fa4485-f80e-4a10-bd3c-4925da001de2"
      },
      "execution_count": 13,
      "outputs": [
        {
          "output_type": "stream",
          "name": "stdout",
          "text": [
            "Mounted at /content/drive\n"
          ]
        }
      ]
    },
    {
      "cell_type": "code",
      "source": [
        "df = pd.read_csv(\"/content/drive/MyDrive/Clatch/cycles.csv\")"
      ],
      "metadata": {
        "id": "bNPayrLWw6b9"
      },
      "execution_count": 14,
      "outputs": []
    },
    {
      "cell_type": "code",
      "source": [
        "print('Number of entries: ', df.shape[0])\n",
        "print('Number of entries in range 15-45 ', df[(df['count_of_days'] > 14) & (df['count_of_days'] < 46)].shape[0])\n",
        "print('Number of unique users: ', df['user_id'].nunique())\n",
        "print('Number of unique users with all cycles in range 15-45: ', df['user_id'].nunique() - df[(df['count_of_days'] < 15) | (df['count_of_days'] > 45)]['user_id'].nunique())"
      ],
      "metadata": {
        "colab": {
          "base_uri": "https://localhost:8080/"
        },
        "id": "mC3uFkUEmn2J",
        "outputId": "aaa1c1f0-7393-420c-858e-1a6cf7bb33f5"
      },
      "execution_count": 15,
      "outputs": [
        {
          "output_type": "stream",
          "name": "stdout",
          "text": [
            "Number of entries:  663652\n",
            "Number of entries in range 15-45  622316\n",
            "Number of unique users:  177860\n",
            "Number of unique users with all cycles in range 15-45:  146003\n"
          ]
        }
      ]
    },
    {
      "cell_type": "code",
      "source": [
        "df.head()"
      ],
      "metadata": {
        "colab": {
          "base_uri": "https://localhost:8080/",
          "height": 206
        },
        "id": "PKtLnr7DYFex",
        "outputId": "f92dcabe-d9cb-4a95-b2e2-8e91d7738ae4"
      },
      "execution_count": 18,
      "outputs": [
        {
          "output_type": "execute_result",
          "data": {
            "text/plain": [
              "      id  user_id started_at   ended_at monthlies_started_at  \\\n",
              "0  42793     4182 2023-03-06 2023-03-07           2023-03-06   \n",
              "1  42794     4182 2023-03-08 2023-03-12           2023-03-08   \n",
              "2  42795     4182 2023-03-13 2023-04-10           2023-03-13   \n",
              "3  97093     9926 2023-03-29 2023-04-17           2023-03-29   \n",
              "4  97094     9926 2023-04-18 2023-05-07           2023-04-18   \n",
              "\n",
              "  monthlies_ended_at fertile_started_at ovulation_at fertile_ended_at  \\\n",
              "0         2023-03-06         2023-03-22   2023-03-22       2023-03-22   \n",
              "1         2023-03-11         2023-03-22   2023-03-22       2023-03-22   \n",
              "2         2023-03-13         2023-03-23   2023-03-28       2023-03-29   \n",
              "3         2023-03-29         2023-03-29   2023-04-03       2023-04-04   \n",
              "4         2023-04-20         2023-04-18   2023-04-23       2023-04-24   \n",
              "\n",
              "   count_of_days          created_at          updated_at  \n",
              "0              2 2023-03-22 04:01:36 2023-03-22 04:01:36  \n",
              "1              5 2023-03-22 04:01:36 2023-03-22 04:01:36  \n",
              "2             29 2023-03-22 04:01:36 2023-03-22 04:01:36  \n",
              "3             20 2023-05-21 19:32:55 2023-05-21 19:32:55  \n",
              "4             20 2023-05-21 19:32:55 2023-05-21 19:32:55  "
            ],
            "text/html": [
              "\n",
              "  <div id=\"df-00946187-7ccb-4537-b9ae-80fae1b3f973\" class=\"colab-df-container\">\n",
              "    <div>\n",
              "<style scoped>\n",
              "    .dataframe tbody tr th:only-of-type {\n",
              "        vertical-align: middle;\n",
              "    }\n",
              "\n",
              "    .dataframe tbody tr th {\n",
              "        vertical-align: top;\n",
              "    }\n",
              "\n",
              "    .dataframe thead th {\n",
              "        text-align: right;\n",
              "    }\n",
              "</style>\n",
              "<table border=\"1\" class=\"dataframe\">\n",
              "  <thead>\n",
              "    <tr style=\"text-align: right;\">\n",
              "      <th></th>\n",
              "      <th>id</th>\n",
              "      <th>user_id</th>\n",
              "      <th>started_at</th>\n",
              "      <th>ended_at</th>\n",
              "      <th>monthlies_started_at</th>\n",
              "      <th>monthlies_ended_at</th>\n",
              "      <th>fertile_started_at</th>\n",
              "      <th>ovulation_at</th>\n",
              "      <th>fertile_ended_at</th>\n",
              "      <th>count_of_days</th>\n",
              "      <th>created_at</th>\n",
              "      <th>updated_at</th>\n",
              "    </tr>\n",
              "  </thead>\n",
              "  <tbody>\n",
              "    <tr>\n",
              "      <th>0</th>\n",
              "      <td>42793</td>\n",
              "      <td>4182</td>\n",
              "      <td>2023-03-06</td>\n",
              "      <td>2023-03-07</td>\n",
              "      <td>2023-03-06</td>\n",
              "      <td>2023-03-06</td>\n",
              "      <td>2023-03-22</td>\n",
              "      <td>2023-03-22</td>\n",
              "      <td>2023-03-22</td>\n",
              "      <td>2</td>\n",
              "      <td>2023-03-22 04:01:36</td>\n",
              "      <td>2023-03-22 04:01:36</td>\n",
              "    </tr>\n",
              "    <tr>\n",
              "      <th>1</th>\n",
              "      <td>42794</td>\n",
              "      <td>4182</td>\n",
              "      <td>2023-03-08</td>\n",
              "      <td>2023-03-12</td>\n",
              "      <td>2023-03-08</td>\n",
              "      <td>2023-03-11</td>\n",
              "      <td>2023-03-22</td>\n",
              "      <td>2023-03-22</td>\n",
              "      <td>2023-03-22</td>\n",
              "      <td>5</td>\n",
              "      <td>2023-03-22 04:01:36</td>\n",
              "      <td>2023-03-22 04:01:36</td>\n",
              "    </tr>\n",
              "    <tr>\n",
              "      <th>2</th>\n",
              "      <td>42795</td>\n",
              "      <td>4182</td>\n",
              "      <td>2023-03-13</td>\n",
              "      <td>2023-04-10</td>\n",
              "      <td>2023-03-13</td>\n",
              "      <td>2023-03-13</td>\n",
              "      <td>2023-03-23</td>\n",
              "      <td>2023-03-28</td>\n",
              "      <td>2023-03-29</td>\n",
              "      <td>29</td>\n",
              "      <td>2023-03-22 04:01:36</td>\n",
              "      <td>2023-03-22 04:01:36</td>\n",
              "    </tr>\n",
              "    <tr>\n",
              "      <th>3</th>\n",
              "      <td>97093</td>\n",
              "      <td>9926</td>\n",
              "      <td>2023-03-29</td>\n",
              "      <td>2023-04-17</td>\n",
              "      <td>2023-03-29</td>\n",
              "      <td>2023-03-29</td>\n",
              "      <td>2023-03-29</td>\n",
              "      <td>2023-04-03</td>\n",
              "      <td>2023-04-04</td>\n",
              "      <td>20</td>\n",
              "      <td>2023-05-21 19:32:55</td>\n",
              "      <td>2023-05-21 19:32:55</td>\n",
              "    </tr>\n",
              "    <tr>\n",
              "      <th>4</th>\n",
              "      <td>97094</td>\n",
              "      <td>9926</td>\n",
              "      <td>2023-04-18</td>\n",
              "      <td>2023-05-07</td>\n",
              "      <td>2023-04-18</td>\n",
              "      <td>2023-04-20</td>\n",
              "      <td>2023-04-18</td>\n",
              "      <td>2023-04-23</td>\n",
              "      <td>2023-04-24</td>\n",
              "      <td>20</td>\n",
              "      <td>2023-05-21 19:32:55</td>\n",
              "      <td>2023-05-21 19:32:55</td>\n",
              "    </tr>\n",
              "  </tbody>\n",
              "</table>\n",
              "</div>\n",
              "    <div class=\"colab-df-buttons\">\n",
              "\n",
              "  <div class=\"colab-df-container\">\n",
              "    <button class=\"colab-df-convert\" onclick=\"convertToInteractive('df-00946187-7ccb-4537-b9ae-80fae1b3f973')\"\n",
              "            title=\"Convert this dataframe to an interactive table.\"\n",
              "            style=\"display:none;\">\n",
              "\n",
              "  <svg xmlns=\"http://www.w3.org/2000/svg\" height=\"24px\" viewBox=\"0 -960 960 960\">\n",
              "    <path d=\"M120-120v-720h720v720H120Zm60-500h600v-160H180v160Zm220 220h160v-160H400v160Zm0 220h160v-160H400v160ZM180-400h160v-160H180v160Zm440 0h160v-160H620v160ZM180-180h160v-160H180v160Zm440 0h160v-160H620v160Z\"/>\n",
              "  </svg>\n",
              "    </button>\n",
              "\n",
              "  <style>\n",
              "    .colab-df-container {\n",
              "      display:flex;\n",
              "      gap: 12px;\n",
              "    }\n",
              "\n",
              "    .colab-df-convert {\n",
              "      background-color: #E8F0FE;\n",
              "      border: none;\n",
              "      border-radius: 50%;\n",
              "      cursor: pointer;\n",
              "      display: none;\n",
              "      fill: #1967D2;\n",
              "      height: 32px;\n",
              "      padding: 0 0 0 0;\n",
              "      width: 32px;\n",
              "    }\n",
              "\n",
              "    .colab-df-convert:hover {\n",
              "      background-color: #E2EBFA;\n",
              "      box-shadow: 0px 1px 2px rgba(60, 64, 67, 0.3), 0px 1px 3px 1px rgba(60, 64, 67, 0.15);\n",
              "      fill: #174EA6;\n",
              "    }\n",
              "\n",
              "    .colab-df-buttons div {\n",
              "      margin-bottom: 4px;\n",
              "    }\n",
              "\n",
              "    [theme=dark] .colab-df-convert {\n",
              "      background-color: #3B4455;\n",
              "      fill: #D2E3FC;\n",
              "    }\n",
              "\n",
              "    [theme=dark] .colab-df-convert:hover {\n",
              "      background-color: #434B5C;\n",
              "      box-shadow: 0px 1px 3px 1px rgba(0, 0, 0, 0.15);\n",
              "      filter: drop-shadow(0px 1px 2px rgba(0, 0, 0, 0.3));\n",
              "      fill: #FFFFFF;\n",
              "    }\n",
              "  </style>\n",
              "\n",
              "    <script>\n",
              "      const buttonEl =\n",
              "        document.querySelector('#df-00946187-7ccb-4537-b9ae-80fae1b3f973 button.colab-df-convert');\n",
              "      buttonEl.style.display =\n",
              "        google.colab.kernel.accessAllowed ? 'block' : 'none';\n",
              "\n",
              "      async function convertToInteractive(key) {\n",
              "        const element = document.querySelector('#df-00946187-7ccb-4537-b9ae-80fae1b3f973');\n",
              "        const dataTable =\n",
              "          await google.colab.kernel.invokeFunction('convertToInteractive',\n",
              "                                                    [key], {});\n",
              "        if (!dataTable) return;\n",
              "\n",
              "        const docLinkHtml = 'Like what you see? Visit the ' +\n",
              "          '<a target=\"_blank\" href=https://colab.research.google.com/notebooks/data_table.ipynb>data table notebook</a>'\n",
              "          + ' to learn more about interactive tables.';\n",
              "        element.innerHTML = '';\n",
              "        dataTable['output_type'] = 'display_data';\n",
              "        await google.colab.output.renderOutput(dataTable, element);\n",
              "        const docLink = document.createElement('div');\n",
              "        docLink.innerHTML = docLinkHtml;\n",
              "        element.appendChild(docLink);\n",
              "      }\n",
              "    </script>\n",
              "  </div>\n",
              "\n",
              "\n",
              "<div id=\"df-c77dfb33-3877-43d6-b4d8-d81602a8386b\">\n",
              "  <button class=\"colab-df-quickchart\" onclick=\"quickchart('df-c77dfb33-3877-43d6-b4d8-d81602a8386b')\"\n",
              "            title=\"Suggest charts\"\n",
              "            style=\"display:none;\">\n",
              "\n",
              "<svg xmlns=\"http://www.w3.org/2000/svg\" height=\"24px\"viewBox=\"0 0 24 24\"\n",
              "     width=\"24px\">\n",
              "    <g>\n",
              "        <path d=\"M19 3H5c-1.1 0-2 .9-2 2v14c0 1.1.9 2 2 2h14c1.1 0 2-.9 2-2V5c0-1.1-.9-2-2-2zM9 17H7v-7h2v7zm4 0h-2V7h2v10zm4 0h-2v-4h2v4z\"/>\n",
              "    </g>\n",
              "</svg>\n",
              "  </button>\n",
              "\n",
              "<style>\n",
              "  .colab-df-quickchart {\n",
              "      --bg-color: #E8F0FE;\n",
              "      --fill-color: #1967D2;\n",
              "      --hover-bg-color: #E2EBFA;\n",
              "      --hover-fill-color: #174EA6;\n",
              "      --disabled-fill-color: #AAA;\n",
              "      --disabled-bg-color: #DDD;\n",
              "  }\n",
              "\n",
              "  [theme=dark] .colab-df-quickchart {\n",
              "      --bg-color: #3B4455;\n",
              "      --fill-color: #D2E3FC;\n",
              "      --hover-bg-color: #434B5C;\n",
              "      --hover-fill-color: #FFFFFF;\n",
              "      --disabled-bg-color: #3B4455;\n",
              "      --disabled-fill-color: #666;\n",
              "  }\n",
              "\n",
              "  .colab-df-quickchart {\n",
              "    background-color: var(--bg-color);\n",
              "    border: none;\n",
              "    border-radius: 50%;\n",
              "    cursor: pointer;\n",
              "    display: none;\n",
              "    fill: var(--fill-color);\n",
              "    height: 32px;\n",
              "    padding: 0;\n",
              "    width: 32px;\n",
              "  }\n",
              "\n",
              "  .colab-df-quickchart:hover {\n",
              "    background-color: var(--hover-bg-color);\n",
              "    box-shadow: 0 1px 2px rgba(60, 64, 67, 0.3), 0 1px 3px 1px rgba(60, 64, 67, 0.15);\n",
              "    fill: var(--button-hover-fill-color);\n",
              "  }\n",
              "\n",
              "  .colab-df-quickchart-complete:disabled,\n",
              "  .colab-df-quickchart-complete:disabled:hover {\n",
              "    background-color: var(--disabled-bg-color);\n",
              "    fill: var(--disabled-fill-color);\n",
              "    box-shadow: none;\n",
              "  }\n",
              "\n",
              "  .colab-df-spinner {\n",
              "    border: 2px solid var(--fill-color);\n",
              "    border-color: transparent;\n",
              "    border-bottom-color: var(--fill-color);\n",
              "    animation:\n",
              "      spin 1s steps(1) infinite;\n",
              "  }\n",
              "\n",
              "  @keyframes spin {\n",
              "    0% {\n",
              "      border-color: transparent;\n",
              "      border-bottom-color: var(--fill-color);\n",
              "      border-left-color: var(--fill-color);\n",
              "    }\n",
              "    20% {\n",
              "      border-color: transparent;\n",
              "      border-left-color: var(--fill-color);\n",
              "      border-top-color: var(--fill-color);\n",
              "    }\n",
              "    30% {\n",
              "      border-color: transparent;\n",
              "      border-left-color: var(--fill-color);\n",
              "      border-top-color: var(--fill-color);\n",
              "      border-right-color: var(--fill-color);\n",
              "    }\n",
              "    40% {\n",
              "      border-color: transparent;\n",
              "      border-right-color: var(--fill-color);\n",
              "      border-top-color: var(--fill-color);\n",
              "    }\n",
              "    60% {\n",
              "      border-color: transparent;\n",
              "      border-right-color: var(--fill-color);\n",
              "    }\n",
              "    80% {\n",
              "      border-color: transparent;\n",
              "      border-right-color: var(--fill-color);\n",
              "      border-bottom-color: var(--fill-color);\n",
              "    }\n",
              "    90% {\n",
              "      border-color: transparent;\n",
              "      border-bottom-color: var(--fill-color);\n",
              "    }\n",
              "  }\n",
              "</style>\n",
              "\n",
              "  <script>\n",
              "    async function quickchart(key) {\n",
              "      const quickchartButtonEl =\n",
              "        document.querySelector('#' + key + ' button');\n",
              "      quickchartButtonEl.disabled = true;  // To prevent multiple clicks.\n",
              "      quickchartButtonEl.classList.add('colab-df-spinner');\n",
              "      try {\n",
              "        const charts = await google.colab.kernel.invokeFunction(\n",
              "            'suggestCharts', [key], {});\n",
              "      } catch (error) {\n",
              "        console.error('Error during call to suggestCharts:', error);\n",
              "      }\n",
              "      quickchartButtonEl.classList.remove('colab-df-spinner');\n",
              "      quickchartButtonEl.classList.add('colab-df-quickchart-complete');\n",
              "    }\n",
              "    (() => {\n",
              "      let quickchartButtonEl =\n",
              "        document.querySelector('#df-c77dfb33-3877-43d6-b4d8-d81602a8386b button');\n",
              "      quickchartButtonEl.style.display =\n",
              "        google.colab.kernel.accessAllowed ? 'block' : 'none';\n",
              "    })();\n",
              "  </script>\n",
              "</div>\n",
              "    </div>\n",
              "  </div>\n"
            ],
            "application/vnd.google.colaboratory.intrinsic+json": {
              "type": "dataframe",
              "variable_name": "df"
            }
          },
          "metadata": {},
          "execution_count": 18
        }
      ]
    },
    {
      "cell_type": "markdown",
      "source": [
        "## Stats"
      ],
      "metadata": {
        "id": "Cpuzco4VuFEA"
      }
    },
    {
      "cell_type": "code",
      "source": [
        "data = preprocessing(df)"
      ],
      "metadata": {
        "id": "Q2fse4l6ciCc"
      },
      "execution_count": 43,
      "outputs": []
    },
    {
      "cell_type": "code",
      "source": [
        "counts = dict()\n",
        "for i in np.array(data[\"count_of_days\"]):\n",
        "    if (i > 9 and i < 51):\n",
        "        counts[i] = counts.get(i, 0) + 1"
      ],
      "metadata": {
        "id": "r7KJtxsbuIC5"
      },
      "execution_count": 44,
      "outputs": []
    },
    {
      "cell_type": "code",
      "source": [
        "plt.rcParams[\"figure.figsize\"] = (15,8)\n",
        "plt.bar(list(counts.keys()), counts.values(), color='b')\n",
        "plt.xlabel('Cycle\\'s lenght', size=15)\n",
        "plt.ylabel('User\\'s count', size=15)\n",
        "plt.show()"
      ],
      "metadata": {
        "colab": {
          "base_uri": "https://localhost:8080/",
          "height": 702
        },
        "outputId": "fc6a7f63-57fa-424b-abfe-63247f621968",
        "id": "Va_VGotXuIC6"
      },
      "execution_count": 45,
      "outputs": [
        {
          "output_type": "display_data",
          "data": {
            "text/plain": [
              "<Figure size 1500x800 with 1 Axes>"
            ],
            "image/png": "[encoded data removed]"
          },
          "metadata": {}
        }
      ]
    },
    {
      "cell_type": "code",
      "source": [
        "data.count_of_days.describe()"
      ],
      "metadata": {
        "colab": {
          "base_uri": "https://localhost:8080/"
        },
        "id": "LK9AgkpHuizY",
        "outputId": "175e97a0-f1c1-4448-d0d0-fecced82695c"
      },
      "execution_count": 46,
      "outputs": [
        {
          "output_type": "execute_result",
          "data": {
            "text/plain": [
              "count    416452.000000\n",
              "mean         31.380325\n",
              "std          14.980285\n",
              "min           2.000000\n",
              "25%          26.000000\n",
              "50%          28.000000\n",
              "75%          32.000000\n",
              "max         384.000000\n",
              "Name: count_of_days, dtype: float64"
            ]
          },
          "metadata": {},
          "execution_count": 46
        }
      ]
    },
    {
      "cell_type": "markdown",
      "source": [
        "А) Данные смещены относительно ожидаемого значения 28 на 3.4\n",
        "\n",
        "B) Отклонение 15, что много;("
      ],
      "metadata": {
        "id": "7EUH3R7Awlmr"
      }
    },
    {
      "cell_type": "markdown",
      "source": [
        "Распределение максимально соответствует нормальному для циклов в интервале $[18, 35]$."
      ],
      "metadata": {
        "id": "6mskGmxK0Eij"
      }
    },
    {
      "cell_type": "code",
      "source": [
        "data_normal, _, _ = prepro(df, interval=(18, 35))"
      ],
      "metadata": {
        "id": "ct4g3zE5BqDu"
      },
      "execution_count": 35,
      "outputs": []
    },
    {
      "cell_type": "code",
      "source": [
        "counts = dict()\n",
        "for i in np.array(data_normal[\"count_of_days\"]):\n",
        "    counts[i] = counts.get(i, 0) + 1"
      ],
      "metadata": {
        "id": "wepUcv1iBqDu"
      },
      "execution_count": 36,
      "outputs": []
    },
    {
      "cell_type": "code",
      "source": [
        "plt.rcParams[\"figure.figsize\"] = (15,8)\n",
        "plt.bar(list(counts.keys()), counts.values(), color='b')\n",
        "plt.xlabel('Cycle\\'s lenght', size=15)\n",
        "plt.ylabel('User\\'s count', size=15)\n",
        "plt.title('Normal disturbution in [18, 35] interval', size=15)\n",
        "plt.show()"
      ],
      "metadata": {
        "colab": {
          "base_uri": "https://localhost:8080/",
          "height": 726
        },
        "outputId": "234ebe99-6b6b-458a-eb44-f58d77bd0b15",
        "id": "px5uCBEXBqDu"
      },
      "execution_count": 42,
      "outputs": [
        {
          "output_type": "display_data",
          "data": {
            "text/plain": [
              "<Figure size 1500x800 with 1 Axes>"
            ],
            "image/png": "[encoded data removed]"
          },
          "metadata": {}
        }
      ]
    },
    {
      "cell_type": "markdown",
      "source": [
        "Далее разобьем данные на 4 группы по 2м критериям:\n",
        "\n",
        "1. Принадлежность к интервалу $[18, 35]$.\n",
        "2. 0.5 квантиль коэффициента вариации."
      ],
      "metadata": {
        "id": "b2LKcnwarJ-P"
      }
    },
    {
      "cell_type": "code",
      "source": [
        "data_0_0, data_0_1, data_1_0, data_1_1 = separation(data, cv_quantile=0.5)"
      ],
      "metadata": {
        "id": "uwJNQTNQq1Zq"
      },
      "execution_count": 69,
      "outputs": []
    },
    {
      "cell_type": "code",
      "source": [
        "print(f'Group 1: in intervale/in quantile\\nPercentage of all data: {data_0_0.user_id.nunique()/data.user_id.nunique()}')\n",
        "print(f'Group 2: in intervale/out of quantile\\nPercentage of all data: {data_0_1.user_id.nunique()/data.user_id.nunique()}')\n",
        "print(f'Group 3: out of intervale/in quantile\\nPercentage of all data: {data_1_0.user_id.nunique()/data.user_id.nunique()}')\n",
        "print(f'Group 4: out of intervale/out of quantile\\nPercentage of all data: {data_1_1.user_id.nunique()/data.user_id.nunique()}')"
      ],
      "metadata": {
        "colab": {
          "base_uri": "https://localhost:8080/"
        },
        "id": "CKEVdPkdr_kZ",
        "outputId": "475cb8ad-217e-4e37-abed-dd1ed2b4fe24"
      },
      "execution_count": 70,
      "outputs": [
        {
          "output_type": "stream",
          "name": "stdout",
          "text": [
            "Group 1: in intervale/in quantile\n",
            "Percentage of all data: 0.4506431042588329\n",
            "Group 2: in intervale/out of quantile\n",
            "Percentage of all data: 0.0802343382716347\n",
            "Group 3: out of intervale/in quantile\n",
            "Percentage of all data: 0.04926648745735743\n",
            "Group 4: out of intervale/out of quantile\n",
            "Percentage of all data: 0.419856070012175\n"
          ]
        }
      ]
    },
    {
      "cell_type": "markdown",
      "source": [
        "# Models"
      ],
      "metadata": {
        "id": "Ei0aeyerPhN6"
      }
    },
    {
      "cell_type": "markdown",
      "source": [
        "## Baseline"
      ],
      "metadata": {
        "id": "qVTEHNXSENRG"
      }
    },
    {
      "cell_type": "code",
      "source": [
        "data, train, val = prepro(df, baseline=True)"
      ],
      "metadata": {
        "id": "qI3TDGKyh8SJ"
      },
      "execution_count": null,
      "outputs": []
    },
    {
      "cell_type": "code",
      "source": [
        "validation(train, val, baseline, window=True)"
      ],
      "metadata": {
        "colab": {
          "base_uri": "https://localhost:8080/"
        },
        "id": "lXKoWaFoJrRg",
        "outputId": "df6b4f13-7bf3-438b-b20c-b43c91a3daad"
      },
      "execution_count": null,
      "outputs": [
        {
          "output_type": "execute_result",
          "data": {
            "text/plain": [
              "0.10171095740808155"
            ]
          },
          "metadata": {},
          "execution_count": 550
        }
      ]
    },
    {
      "cell_type": "markdown",
      "source": [
        "## Валидация"
      ],
      "metadata": {
        "id": "3G1G5p3vghzu"
      }
    },
    {
      "cell_type": "code",
      "source": [
        "data = preprocessing(df)\n",
        "data = timesplit(data)"
      ],
      "metadata": {
        "id": "5eR2v4OwG5v0"
      },
      "execution_count": 179,
      "outputs": []
    },
    {
      "cell_type": "code",
      "source": [
        "data_0_0, data_0_1, data_1_0, data_1_1 = separation(data, cv_quantile=0.5)"
      ],
      "metadata": {
        "id": "4TSsSonJGzCE"
      },
      "execution_count": 180,
      "outputs": []
    },
    {
      "cell_type": "code",
      "source": [
        "from sklearn.linear_model import RidgeCV\n",
        "from sklearn.pipeline import make_pipeline\n",
        "from sklearn.preprocessing import MinMaxScaler, OneHotEncoder\n",
        "\n",
        "one_hot_encoder = OneHotEncoder(handle_unknown=\"ignore\", sparse_output=False)\n",
        "alphas = np.logspace(-6, 6, 25)\n",
        "naive_linear_pipeline = make_pipeline(\n",
        "    ColumnTransformer(\n",
        "        transformers=[\n",
        "            (\"categorical\", one_hot_encoder, ['season']),\n",
        "        ],\n",
        "        remainder=MinMaxScaler(),\n",
        "    ),\n",
        "    RidgeCV(alphas=alphas),\n",
        ")"
      ],
      "metadata": {
        "id": "cpELLSRbKErN"
      },
      "execution_count": 181,
      "outputs": []
    },
    {
      "cell_type": "code",
      "source": [
        "min_mae = 0\n",
        "mae_baseline = 0\n",
        "res = np.array([])\n",
        "\n",
        "for dataset in [data_0_0, data_0_1, data_1_0, data_1_1]:\n",
        "    train, test = train_test_split_(dataset)\n",
        "\n",
        "    #data for sklearn models\n",
        "    X = train[['year', 'month', 'season', 'day']]\n",
        "    y = train['count_of_days']\n",
        "    X_test = test[['year', 'month', 'season', 'day']]\n",
        "    y_test = test['count_of_days']\n",
        "\n",
        "    #data for custom models\n",
        "    train = to_dict(train)\n",
        "    test = to_dict(test)\n",
        "\n",
        "    # moving avg\n",
        "    mae_mavg_all = validation(train, test, baseline, window=True)\n",
        "    # avg\n",
        "    mae_avg_all = validation(train, test, baseline, window=False)\n",
        "    # Ridge\n",
        "    mae_ridge = evaluate(naive_linear_pipeline, X, y, X_test, y_test)\n",
        "\n",
        "    res = np.append(res, [mae_mavg_all, mae_avg_all, mae_ridge])\n",
        "    min_mae+=min([mae_mavg_all, mae_avg_all, mae_ridge])\n",
        "    mae_baseline+=mae_mavg_all\n",
        "\n",
        "    #print(mae_mavg_all, mae_avg_all, mae_ridge)"
      ],
      "metadata": {
        "colab": {
          "base_uri": "https://localhost:8080/"
        },
        "id": "tox95MVdG81d",
        "outputId": "3927fa71-212c-46e2-aeb7-8bb859586977"
      },
      "execution_count": 195,
      "outputs": [
        {
          "output_type": "stream",
          "name": "stdout",
          "text": [
            "Our: 6.9051887983208085 vs Baseline: 9.26969393782321\n"
          ]
        }
      ]
    },
    {
      "cell_type": "code",
      "source": [
        "cols = ['MAvg', 'Avg', 'Ridge']\n",
        "datas = ['Normal/Quantile', 'Normal/Not Quantile', 'Not Normal/Quantile', 'Not Normal/Not Quantile']\n",
        "result = pd.DataFrame(data=res.reshape(4, 3), index=datas, columns=cols)\n",
        "result.index.name = 'AE'\n",
        "\n",
        "print(result)\n",
        "print(f'\\nMAE:\\nOur: {min_mae / data.user_id.nunique()} vs \\nBaseline: {mae_baseline / data.user_id.nunique()}')"
      ],
      "metadata": {
        "colab": {
          "base_uri": "https://localhost:8080/"
        },
        "id": "Ft8aiyWqO0Vh",
        "outputId": "0ff8ce11-b041-4ea3-99ce-f48c78f5171d"
      },
      "execution_count": 207,
      "outputs": [
        {
          "output_type": "stream",
          "name": "stdout",
          "text": [
            "                             MAvg       Avg          Ridge\n",
            "AE                                                        \n",
            "Normal/Quantile           65827.0   64571.0   86254.318025\n",
            "Normal/Not Quantile       33567.0   33250.0   23924.131596\n",
            "Not Normal/Quantile       12770.0   12495.0   28205.369297\n",
            "Not Normal/Not Quantile  656822.0  662120.0  471843.615546\n",
            "\n",
            "MAE:\n",
            "Our: 6.9051887983208085 vs \n",
            "Baseline: 9.26969393782321\n"
          ]
        }
      ]
    }
  ]
}